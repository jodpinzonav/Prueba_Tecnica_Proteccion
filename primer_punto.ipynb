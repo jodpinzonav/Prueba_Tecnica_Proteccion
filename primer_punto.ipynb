{
 "cells": [
  {
   "cell_type": "markdown",
   "id": "7d4deda8",
   "metadata": {},
   "source": [
    "# 1.1 Analisis Exploratorio de datos"
   ]
  },
  {
   "cell_type": "markdown",
   "id": "81d9e750",
   "metadata": {},
   "source": [
    "Cargamos los datos inicialmente"
   ]
  },
  {
   "cell_type": "code",
   "execution_count": 30,
   "id": "126220f6",
   "metadata": {},
   "outputs": [
    {
     "name": "stdout",
     "output_type": "stream",
     "text": [
      "<class 'pandas.core.frame.DataFrame'>\n",
      "RangeIndex: 21613 entries, 0 to 21612\n",
      "Data columns (total 21 columns):\n",
      " #   Column         Non-Null Count  Dtype  \n",
      "---  ------         --------------  -----  \n",
      " 0   id             21613 non-null  int64  \n",
      " 1   date           21613 non-null  object \n",
      " 2   price          21613 non-null  int64  \n",
      " 3   bedrooms       21613 non-null  int64  \n",
      " 4   bathrooms      21613 non-null  float64\n",
      " 5   sqft_living    21613 non-null  int64  \n",
      " 6   sqft_lot       21613 non-null  int64  \n",
      " 7   floors         21613 non-null  float64\n",
      " 8   waterfront     21613 non-null  int64  \n",
      " 9   view           21613 non-null  int64  \n",
      " 10  condition      21613 non-null  int64  \n",
      " 11  grade          21613 non-null  int64  \n",
      " 12  sqft_above     21613 non-null  int64  \n",
      " 13  sqft_basement  21613 non-null  int64  \n",
      " 14  yr_built       21613 non-null  int64  \n",
      " 15  yr_renovated   21613 non-null  int64  \n",
      " 16  zipcode        21613 non-null  int64  \n",
      " 17  lat            21613 non-null  float64\n",
      " 18  long           21613 non-null  float64\n",
      " 19  sqft_living15  21613 non-null  int64  \n",
      " 20  sqft_lot15     21613 non-null  int64  \n",
      "dtypes: float64(4), int64(16), object(1)\n",
      "memory usage: 3.5+ MB\n",
      "None\n"
     ]
    }
   ],
   "source": [
    "import pandas as pd\n",
    "\n",
    "data_path = 'data/home_data.csv'\n",
    "df = pd.read_csv(data_path)\n",
    "\n",
    "# vemos el esquema del Dataframe para darnos una idea inicial de las columnas y tipos de datos\n",
    "print(df.info())\n",
    "\n"
   ]
  },
  {
   "cell_type": "markdown",
   "id": "e8f57476",
   "metadata": {},
   "source": [
    "Podemos ver que tenemos un dataframe con 21613 registros, 21 columnas, y que no hay valores nulos en cada columna inicialmente"
   ]
  },
  {
   "cell_type": "markdown",
   "id": "a7b309eb",
   "metadata": {},
   "source": [
    "Para el EDA, Personalmente me gusta usar una libreria llamada ydata_profiling, allí puedo evaluar de manera integra la estructura de los datos en un .html que se genera"
   ]
  },
  {
   "cell_type": "code",
   "execution_count": 13,
   "id": "fb7609ed",
   "metadata": {},
   "outputs": [
    {
     "name": "stderr",
     "output_type": "stream",
     "text": [
      "100%|██████████| 21/21 [00:00<00:00, 1385.04it/s]00:00, 18.91it/s, Describe variable: sqft_lot15]  \n",
      "Summarize dataset: 100%|██████████| 319/319 [00:24<00:00, 12.95it/s, Completed]                           \n",
      "Generate report structure: 100%|██████████| 1/1 [00:04<00:00,  4.53s/it]\n",
      "Render HTML: 100%|██████████| 1/1 [00:00<00:00,  1.37it/s]\n",
      "Export report to file: 100%|██████████| 1/1 [00:00<00:00, 25.36it/s]\n"
     ]
    }
   ],
   "source": [
    "from ydata_profiling import ProfileReport\n",
    "\n",
    "profile = ProfileReport(df, title=\"data_precio_viviendas \")\n",
    "profile.to_file(\"data_precio_viviendas.html\")\n"
   ]
  },
  {
   "cell_type": "markdown",
   "id": "b3a997a0",
   "metadata": {},
   "source": [
    "Podemos ver el resumen estadistico del df, el tipo de variables y la cantidad de memoria que ocupa el dataset\n",
    "\n",
    "![overview](img/overview.png)\n",
    "\n",
    "además podemos ver un resumen por cada columna para identificar aspectos importantes:\n",
    "\n",
    "columna id\n",
    "\n",
    "![id](img/resumenId.png)\n",
    "\n",
    "columna Price\n",
    "\n",
    "![price](img/resumenPrice.png)\n",
    "\n",
    "columna bathrooms\n",
    "\n",
    "![bathroom](img/resumenBathrooms.png)\n",
    "\n",
    "columna Bedrooms\n",
    "\n",
    "![bedrooms](img/resumenBedrooms.png)\n",
    "\n",
    "columna floors\n",
    "\n",
    "![floors](img/resumenFloors.png)\n",
    "\n",
    "columna sqft_above\n",
    "\n",
    "![sqft_above](img/resumensqft_above.png)\n",
    "\n",
    "columna sqft_basement\n",
    "\n",
    "![sqft_basement](img/resumensqft_basement.png)\n",
    "\n",
    "columna sqft_living\n",
    "\n",
    "![sqft_living](img/resumensqft_living.png)\n",
    "\n",
    "columna sqtf_lot\n",
    "\n",
    "![sqft_lot](img/resumensqft_lot.png)\n",
    "\n",
    "![correlaciones](img/resumenCorrelaciones.png)\n",
    "\n"
   ]
  },
  {
   "cell_type": "code",
   "execution_count": 31,
   "id": "4e834c93",
   "metadata": {},
   "outputs": [
    {
     "name": "stdout",
     "output_type": "stream",
     "text": [
      "\n",
      "🔗 Top 10 Correlaciones con el Precio:\n",
      "price            1.000000\n",
      "sqft_living      0.702035\n",
      "grade            0.667434\n",
      "sqft_above       0.605567\n",
      "sqft_living15    0.585379\n",
      "bathrooms        0.525138\n",
      "view             0.397293\n",
      "sqft_basement    0.323816\n",
      "bedrooms         0.308350\n",
      "lat              0.307003\n",
      "waterfront       0.266369\n",
      "Name: price, dtype: float64\n"
     ]
    }
   ],
   "source": [
    "# exploremos las correlaciones solo del precio con las demás variables numéricas\n",
    "numeric_df = df.select_dtypes(include=['number'])\n",
    "\n",
    "# Calcular correlaciones con 'price'\n",
    "correlations = numeric_df.corr()['price'].sort_values(ascending=False)\n",
    "\n",
    "print(\"\\n🔗 Top 10 Correlaciones con el Precio:\")\n",
    "print(correlations.head(11))"
   ]
  },
  {
   "cell_type": "markdown",
   "id": "0d70576a",
   "metadata": {},
   "source": [
    "\n",
    "## conclusiones 1.1 EDA \n",
    "* existen algunos registros duplicados en el id que se tienen que depurar en la parte subsiguiente de preprocesamiento de datos\n",
    "* es necesario cambiar el tipo de dato de la columna bathrooms y floors ya que al ser baños y pisos respectivamente, no pueden existir decimales, se debe redondear al entero más cercano y convertir a tipo int\n",
    "* depurar los outliers de la columna bedrooms ya que hay algunos registros que presentan hasta 33 dormitorios, lo cual puede sesgar los modelos, es necesario eliminarlos\n",
    "* depurar los outliers de la columna sqft_lot ya que existen valores muy altos que no permiten conocer bien la distribucion de los datos y generan sesgos\n",
    "* adicionalmente:\n",
    "   - Relación no lineal entre algunas variables y precio\n",
    "   - Posible multicolinealidad entre variables de área\n",
    "   - sqft_living: Correlación más fuerte con precio (>0.7)\n",
    "   - grade: segunda relacion más fuerte, aunque no se explica mucho que es esta variable, es importante.\n"
   ]
  },
  {
   "cell_type": "markdown",
   "id": "01ba5661",
   "metadata": {},
   "source": [
    "# 1.2 preprocesamiento datos"
   ]
  },
  {
   "cell_type": "markdown",
   "id": "8684c17d",
   "metadata": {},
   "source": [
    "Miremos cuantos duplicados hay en la columna \"id\", deberían tener valores unicos"
   ]
  },
  {
   "cell_type": "code",
   "execution_count": 32,
   "id": "06b838d5",
   "metadata": {},
   "outputs": [
    {
     "name": "stdout",
     "output_type": "stream",
     "text": [
      "Número de registros duplicados por 'id': 176\n"
     ]
    }
   ],
   "source": [
    "duplicados = df[df.duplicated(subset='id', keep=False)]\n",
    "print(f\"Número de registros duplicados por 'id': {duplicados['id'].nunique()}\")"
   ]
  },
  {
   "cell_type": "markdown",
   "id": "0732a970",
   "metadata": {},
   "source": [
    "Aqui nos dimos cuenta que hay varios registros duplicados, miremos inicialmente cual puede ser el motivo"
   ]
  },
  {
   "cell_type": "code",
   "execution_count": 33,
   "id": "365f6f46",
   "metadata": {},
   "outputs": [
    {
     "data": {
      "text/html": [
       "<div>\n",
       "<style scoped>\n",
       "    .dataframe tbody tr th:only-of-type {\n",
       "        vertical-align: middle;\n",
       "    }\n",
       "\n",
       "    .dataframe tbody tr th {\n",
       "        vertical-align: top;\n",
       "    }\n",
       "\n",
       "    .dataframe thead th {\n",
       "        text-align: right;\n",
       "    }\n",
       "</style>\n",
       "<table border=\"1\" class=\"dataframe\">\n",
       "  <thead>\n",
       "    <tr style=\"text-align: right;\">\n",
       "      <th></th>\n",
       "      <th>id</th>\n",
       "      <th>date</th>\n",
       "      <th>price</th>\n",
       "      <th>bedrooms</th>\n",
       "      <th>bathrooms</th>\n",
       "      <th>sqft_living</th>\n",
       "      <th>sqft_lot</th>\n",
       "      <th>floors</th>\n",
       "      <th>waterfront</th>\n",
       "      <th>view</th>\n",
       "      <th>...</th>\n",
       "      <th>grade</th>\n",
       "      <th>sqft_above</th>\n",
       "      <th>sqft_basement</th>\n",
       "      <th>yr_built</th>\n",
       "      <th>yr_renovated</th>\n",
       "      <th>zipcode</th>\n",
       "      <th>lat</th>\n",
       "      <th>long</th>\n",
       "      <th>sqft_living15</th>\n",
       "      <th>sqft_lot15</th>\n",
       "    </tr>\n",
       "  </thead>\n",
       "  <tbody>\n",
       "    <tr>\n",
       "      <th>324</th>\n",
       "      <td>7520000520</td>\n",
       "      <td>20140905T000000</td>\n",
       "      <td>232000</td>\n",
       "      <td>2</td>\n",
       "      <td>1.0</td>\n",
       "      <td>1240</td>\n",
       "      <td>12092</td>\n",
       "      <td>1.0</td>\n",
       "      <td>0</td>\n",
       "      <td>0</td>\n",
       "      <td>...</td>\n",
       "      <td>6</td>\n",
       "      <td>960</td>\n",
       "      <td>280</td>\n",
       "      <td>1922</td>\n",
       "      <td>1984</td>\n",
       "      <td>98146</td>\n",
       "      <td>47.4957</td>\n",
       "      <td>-122.352</td>\n",
       "      <td>1820</td>\n",
       "      <td>7460</td>\n",
       "    </tr>\n",
       "    <tr>\n",
       "      <th>325</th>\n",
       "      <td>7520000520</td>\n",
       "      <td>20150311T000000</td>\n",
       "      <td>240500</td>\n",
       "      <td>2</td>\n",
       "      <td>1.0</td>\n",
       "      <td>1240</td>\n",
       "      <td>12092</td>\n",
       "      <td>1.0</td>\n",
       "      <td>0</td>\n",
       "      <td>0</td>\n",
       "      <td>...</td>\n",
       "      <td>6</td>\n",
       "      <td>960</td>\n",
       "      <td>280</td>\n",
       "      <td>1922</td>\n",
       "      <td>1984</td>\n",
       "      <td>98146</td>\n",
       "      <td>47.4957</td>\n",
       "      <td>-122.352</td>\n",
       "      <td>1820</td>\n",
       "      <td>7460</td>\n",
       "    </tr>\n",
       "  </tbody>\n",
       "</table>\n",
       "<p>2 rows × 21 columns</p>\n",
       "</div>"
      ],
      "text/plain": [
       "             id             date   price  bedrooms  bathrooms  sqft_living  \\\n",
       "324  7520000520  20140905T000000  232000         2        1.0         1240   \n",
       "325  7520000520  20150311T000000  240500         2        1.0         1240   \n",
       "\n",
       "     sqft_lot  floors  waterfront  view  ...  grade  sqft_above  \\\n",
       "324     12092     1.0           0     0  ...      6         960   \n",
       "325     12092     1.0           0     0  ...      6         960   \n",
       "\n",
       "     sqft_basement  yr_built  yr_renovated  zipcode      lat     long  \\\n",
       "324            280      1922          1984    98146  47.4957 -122.352   \n",
       "325            280      1922          1984    98146  47.4957 -122.352   \n",
       "\n",
       "     sqft_living15  sqft_lot15  \n",
       "324           1820        7460  \n",
       "325           1820        7460  \n",
       "\n",
       "[2 rows x 21 columns]"
      ]
     },
     "execution_count": 33,
     "metadata": {},
     "output_type": "execute_result"
    }
   ],
   "source": [
    "# genero un array con los ids duplicados\n",
    "duplicados_ids = df['id'][df['id'].duplicated()].unique()\n",
    "\n",
    "# quiero ver un ejemplo de los duplicados\n",
    "id_ejemplo = duplicados_ids[2]\n",
    "df_id = df[df['id'] == id_ejemplo]\n",
    "df_id"
   ]
  },
  {
   "cell_type": "markdown",
   "id": "fba51706",
   "metadata": {},
   "source": [
    "a priori parece que las columnas que difieren son la fecha y el precio, lo cual sugiere que hay registros en los que se actualizó el precio del inmueble en una fecha posterior, validemos esta hipótesis para todos los registros"
   ]
  },
  {
   "cell_type": "code",
   "execution_count": 17,
   "id": "635ed302",
   "metadata": {},
   "outputs": [
    {
     "name": "stdout",
     "output_type": "stream",
     "text": [
      "ID 6021501535 difiere en: ['date', 'price']\n",
      "ID 4139480200 difiere en: ['date', 'price']\n",
      "ID 7520000520 difiere en: ['date', 'price']\n",
      "ID 3969300030 difiere en: ['date', 'price']\n",
      "ID 2231500030 difiere en: ['date', 'price']\n",
      "ID 8820903380 difiere en: ['date', 'price']\n",
      "ID 726049190 difiere en: ['date', 'price']\n",
      "ID 8682262400 difiere en: ['date', 'price']\n",
      "ID 9834200885 difiere en: ['date', 'price']\n",
      "ID 8062900070 difiere en: ['date', 'price']\n"
     ]
    }
   ],
   "source": [
    "diferencias = {}\n",
    "\n",
    "for _id in duplicados_ids:\n",
    "    filas = df[df['id'] == _id]\n",
    "    if len(filas) > 1:\n",
    "        diff = filas.loc[filas.index[0]] != filas.loc[filas.index[1]]\n",
    "        cols_diff = diff[diff].index.tolist()\n",
    "        diferencias[_id] = cols_diff\n",
    "\n",
    "# Mostrar IDs y columnas distintas\n",
    "for k, v in list(diferencias.items())[:10]:  # solo los primeros 10 para no saturar\n",
    "    print(f\"ID {k} difiere en: {v}\")"
   ]
  },
  {
   "cell_type": "markdown",
   "id": "cbff49ce",
   "metadata": {},
   "source": [
    "Efectivamente, las columnas que hacen que estén duplicados son por fecha y precio, como queremos generar un modelo de precios, eliminaremos los registros viejos y dejaremos los mas recientes\n",
    "\n",
    "ordenamos entonces el dataframe para dejar los registros más actualizados.\n",
    "\n"
   ]
  },
  {
   "cell_type": "code",
   "execution_count": 37,
   "id": "2ae3b920",
   "metadata": {},
   "outputs": [],
   "source": [
    "# Ordenar por id y fecha (de más reciente a más antigua)\n",
    "df_sorted = df.sort_values(['id', 'date'], ascending=[True, False])\n",
    "\n",
    "# Eliminar duplicados, manteniendo SOLO el registro más reciente\n",
    "df_clean = df_sorted.drop_duplicates(subset='id', keep='first')\n",
    "\n",
    "# eliminiamos también el que tuvo 33 bedrooms porque es un error obvio\n",
    "df_clean = df_clean[df_clean['bedrooms'] < 33]\n",
    "\n",
    "#convertimos la columna date a tipo fecha\n",
    "df_clean['date'] = df_clean['date'].astype(str)\n",
    "\n",
    "# convierto a tipo int la columna de bathrooms y floors \n",
    "df_clean['bathrooms'] = df_clean['bathrooms'].astype(int)\n",
    "df_clean['floors'] = df_clean['floors'].astype(int)"
   ]
  },
  {
   "cell_type": "code",
   "execution_count": 19,
   "id": "a6d165d9",
   "metadata": {},
   "outputs": [
    {
     "name": "stderr",
     "output_type": "stream",
     "text": [
      "100%|██████████| 21/21 [00:00<00:00, 981.05it/s]<00:00, 34.71it/s, Describe variable: sqft_lot15] \n",
      "Summarize dataset: 100%|██████████| 286/286 [00:21<00:00, 13.13it/s, Completed]                           \n",
      "Generate report structure: 100%|██████████| 1/1 [00:04<00:00,  4.56s/it]\n",
      "Render HTML: 100%|██████████| 1/1 [00:00<00:00,  1.49it/s]\n",
      "Export report to file: 100%|██████████| 1/1 [00:00<00:00, 29.77it/s]\n"
     ]
    }
   ],
   "source": [
    "from ydata_profiling import ProfileReport\n",
    "\n",
    "profile = ProfileReport(df_clean, title=\"precio vivendas depurado \")\n",
    "profile.to_file(\"data_precio_viviendas_depurado.html\")"
   ]
  },
  {
   "cell_type": "markdown",
   "id": "0bfd5e8b",
   "metadata": {},
   "source": [
    "A partir de acá guardo en un archivo .parquet el dataset ya depurado"
   ]
  },
  {
   "cell_type": "code",
   "execution_count": 43,
   "id": "949785b2",
   "metadata": {},
   "outputs": [],
   "source": [
    "df_clean.to_parquet('data/home_data_clean.parquet', index=False,engine='fastparquet')\n",
    "#df_clean.info()"
   ]
  },
  {
   "cell_type": "markdown",
   "id": "bd1491d6",
   "metadata": {},
   "source": [
    "## Conclusiones 1.2 Preprocesamiento de datos:\n",
    "* se eliimnaron id's duplicados\n",
    "* se eliminaron los outliers que no tenian sentido\n",
    "* variables como floors o bathrooms se reescalaron a enteros"
   ]
  },
  {
   "cell_type": "markdown",
   "id": "5f837f81",
   "metadata": {},
   "source": [
    "# 1.3 Modelo para ajustar el precio de las viviendas"
   ]
  },
  {
   "cell_type": "markdown",
   "id": "042d5513",
   "metadata": {},
   "source": []
  }
 ],
 "metadata": {
  "kernelspec": {
   "display_name": "Python 3",
   "language": "python",
   "name": "python3"
  },
  "language_info": {
   "codemirror_mode": {
    "name": "ipython",
    "version": 3
   },
   "file_extension": ".py",
   "mimetype": "text/x-python",
   "name": "python",
   "nbconvert_exporter": "python",
   "pygments_lexer": "ipython3",
   "version": "3.13.0"
  }
 },
 "nbformat": 4,
 "nbformat_minor": 5
}

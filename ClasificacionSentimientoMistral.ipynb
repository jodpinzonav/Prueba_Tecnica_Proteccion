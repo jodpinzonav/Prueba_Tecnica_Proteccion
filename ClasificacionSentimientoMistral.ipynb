{
  "cells": [
    {
      "cell_type": "code",
      "execution_count": null,
      "metadata": {
        "colab": {
          "base_uri": "https://localhost:8080/"
        },
        "id": "kXaHWT-bIpB3",
        "outputId": "4b9564e0-ed42-4df0-cdde-d07ef2e7f5bf"
      },
      "outputs": [
        {
          "name": "stdout",
          "output_type": "stream",
          "text": [
            "\u001b[?25l   \u001b[90m━━━━━━━━━━━━━━━━━━━━━━━━━━━━━━━━━━━━━━━━\u001b[0m \u001b[32m0.0/442.8 kB\u001b[0m \u001b[31m?\u001b[0m eta \u001b[36m-:--:--\u001b[0m\r\u001b[2K   \u001b[91m━━━━━━━━━━━━━━━━━━━━━━━━━━━━━━\u001b[0m\u001b[91m╸\u001b[0m\u001b[90m━━━━━━━━━\u001b[0m \u001b[32m337.9/442.8 kB\u001b[0m \u001b[31m10.8 MB/s\u001b[0m eta \u001b[36m0:00:01\u001b[0m\r\u001b[2K   \u001b[90m━━━━━━━━━━━━━━━━━━━━━━━━━━━━━━━━━━━━━━━━\u001b[0m \u001b[32m442.8/442.8 kB\u001b[0m \u001b[31m7.5 MB/s\u001b[0m eta \u001b[36m0:00:00\u001b[0m\n",
            "\u001b[?25h\u001b[?25l   \u001b[90m━━━━━━━━━━━━━━━━━━━━━━━━━━━━━━━━━━━━━━━━\u001b[0m \u001b[32m0.0/160.3 kB\u001b[0m \u001b[31m?\u001b[0m eta \u001b[36m-:--:--\u001b[0m\r\u001b[2K   \u001b[90m━━━━━━━━━━━━━━━━━━━━━━━━━━━━━━━━━━━━━━━━\u001b[0m \u001b[32m160.3/160.3 kB\u001b[0m \u001b[31m10.7 MB/s\u001b[0m eta \u001b[36m0:00:00\u001b[0m\n",
            "\u001b[?25h```json\n",
            "[\n",
            "  {\n",
            "    \"reseña\": \"El producto llegó rápido y funciona perfecto.\",\n",
            "    \"sentimiento\": \"positivo\",\n",
            "    \"razón\": \"La reseña destaca aspectos favorables como la rapidez de entrega ('llegó rápido') y la calidad del producto ('funciona perfecto'), usando términos con connotación positiva.\"\n",
            "  },\n",
            "  {\n",
            "    \"reseña\": \"No cumplió mis expectativas, el material es muy débil.\",\n",
            "    \"sentimiento\": \"negativo\",\n",
            "    \"razón\": \"La reseña expresa insatisfacción explícita ('no cumplió mis expectativas') y critica la calidad del material ('muy débil'), con palabras de carga emocional negativa.\"\n",
            "  },\n",
            "  {\n",
            "    \"reseña\": \"Está bien, aunque el precio podría ser mejor.\",\n",
            "    \"sentimiento\": \"neutro\",\n",
            "    \"razón\": \"La reseña tiene un tono equilibrado: reconoce que el producto es aceptable ('está bien'), pero sugiere una mejora en el precio ('podría ser mejor'). La ambivalencia la clasifica como neutra, sin emociones fuertes.\"\n",
            "  }\n",
            "]\n",
            "```\n"
          ]
        }
      ],
      "source": [
        "# Para usar las API con el método SDK\n",
        "from mistralai import Mistral\n",
        "\n",
        "api_key = \"164FOWLVoCRWUy3yCsALjYZzxh5ELjLb\"  # API KEY generado desde MISTRAL\n",
        "client = Mistral(api_key=api_key)  # Crea un cliente que se conecta al servicio de Mistral usando la clave\n",
        "model = \"mistral-large-latest\"  # Define el modelo de lenguaje que se va a usar https://docs.mistral.ai/getting-started/models/models_overview/\n",
        "\n",
        "\n",
        "# Lista de reseñas (ejemplo)\n",
        "reviews = [\n",
        "    \"El producto llegó rápido y funciona perfecto.\",\n",
        "    \"No cumplió mis expectativas, el material es muy débil.\",\n",
        "    \"Está bien, aunque el precio podría ser mejor.\"\n",
        "]\n",
        "\n",
        "# Crear la solicitud para analizar sentimiento\n",
        "prompt = f\"\"\"\n",
        "Analiza el sentimiento de las siguientes reseñas y responde en formato JSON:\n",
        "[\n",
        "  {{\n",
        "    \"reseña\": \"...\",\n",
        "    \"sentimiento\": \"positivo/negativo/neutro\",\n",
        "    \"razón\": \"breve explicación\"\n",
        "  }}\n",
        "]\n",
        "Reseñas: {reviews}\n",
        "\"\"\"\n",
        "\n",
        "# Llamado al modelo\n",
        "response = client.chat.complete(\n",
        "    model=model,\n",
        "    messages=[\n",
        "        {\"role\": \"system\", \"content\": \"Eres un analista experto en procesamiento de lenguaje natural.\"},\n",
        "        {\"role\": \"user\", \"content\": prompt}\n",
        "    ],\n",
        "    temperature=0.3  # baja temperatura para respuestas consistentes\n",
        ")\n",
        "\n",
        "# Mostrar resultado\n",
        "print(response.choices[0].message.content)"
      ]
    }
  ],
  "metadata": {
    "colab": {
      "provenance": []
    },
    "kernelspec": {
      "display_name": "Python 3",
      "name": "python3"
    },
    "language_info": {
      "name": "python"
    }
  },
  "nbformat": 4,
  "nbformat_minor": 0
}
